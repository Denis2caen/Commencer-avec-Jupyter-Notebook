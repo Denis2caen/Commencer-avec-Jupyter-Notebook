{
 "cells": [
  {
   "cell_type": "markdown",
   "metadata": {},
   "source": [
    "<h1 style=\"color:blue\">Premier Notebook Jupyter</h1>\n"
   ]
  },
  {
   "cell_type": "markdown",
   "metadata": {},
   "source": [
    "### Utilisation d'un **notebook Jupyter** pour faire de la programmation en langage **python**."
   ]
  },
  {
   "cell_type": "markdown",
   "metadata": {},
   "source": [
    "Un **Notebook Jupyter** est une succession de cellules, soit de texte, soit de code.\n",
    "\n",
    "> Mais tout d'abord **félicitations** d'être déjà parvenu à ouvrir ce notebook !\n",
    "\n",
    "Pour **exécuter le code** Python d'une cellule, il faut frapper **`<MAJ-Entrée>`** (ou cliquer sur le bouton <button class='fa fa-step-forward icon-step-forward'></button>, ou encore utiliser le menu `Cell>Run and Select Below...` **Exécuter** (ou Run)). \n",
    "\n",
    "\n",
    "> Quand une cellule de code a été exécutée, un chiffre apparait dans les crochets ([ ]), à gauche de la cellule.\n",
    "\n",
    "> _Note : quand le serveur est désactivé, un sablier apparaît en icône de l'onglet <button class='fa fa-hourglass-2'></button> (cela arrive au bout de 10 minutes d'inactivité pour les Notebook Binder en ligne), une étoile apparait; Il faut alors relancer le serveur en cliquant sur <button class='fa fa-repeat'></button>._\n",
    "\n",
    "> Essayez avec la cellule ci-dessous !\n"
   ]
  },
  {
   "cell_type": "code",
   "execution_count": null,
   "metadata": {},
   "outputs": [],
   "source": [
    "\" exemple de code simple :\"\n",
    "2+3"
   ]
  },
  {
   "cell_type": "markdown",
   "metadata": {},
   "source": [
    "Quand une cellule de code a été exécutée, un chiffre apparait dans les crochets, à gauche de la cellule.\n",
    "\n",
    "> _Rappel : quand le serveur est désactivé (au bout de 10 minutes d'inactivité pour les Notebook Binder en ligne), une étoile apparait; Il faut alors relancer le serveur Binder._"
   ]
  },
  {
   "cell_type": "markdown",
   "metadata": {},
   "source": [
    "Changer les valeurs ci-dessous puis exécuter le code plusieurs fois."
   ]
  },
  {
   "cell_type": "code",
   "execution_count": null,
   "metadata": {},
   "outputs": [],
   "source": [
    "A=2\n",
    "B=3\n",
    "A+B"
   ]
  },
  {
   "cell_type": "markdown",
   "metadata": {},
   "source": [
    "Le résultat du calcul s'affiche à chaque dernière exécution.\n",
    "\n",
    "Seule la dernière exécution apparaît.\n",
    "\n",
    "On peut aussi utiliser la fonction print() qui va insérer un retour à la ligne à la suite."
   ]
  },
  {
   "cell_type": "code",
   "execution_count": null,
   "metadata": {},
   "outputs": [],
   "source": [
    "print (A+B)"
   ]
  },
  {
   "cell_type": "markdown",
   "metadata": {},
   "source": [
    "Vous pouvez transmettre ce notebook avec le résultats des cellules de code à votre professeur par le menu File/Download as/Custom (.html). Le fichier sera dans le dossier **téléchargement** ."
   ]
  },
  {
   "cell_type": "markdown",
   "metadata": {},
   "source": [
    "Essayez maintenant d'exporter ce notebook dans un de ces deux formats."
   ]
  }
 ],
 "metadata": {
  "kernelspec": {
   "display_name": "Python 3",
   "language": "python",
   "name": "python3"
  },
  "language_info": {
   "codemirror_mode": {
    "name": "ipython",
    "version": 3
   },
   "file_extension": ".py",
   "mimetype": "text/x-python",
   "name": "python",
   "nbconvert_exporter": "python",
   "pygments_lexer": "ipython3",
   "version": "3.8.5"
  }
 },
 "nbformat": 4,
 "nbformat_minor": 2
}
